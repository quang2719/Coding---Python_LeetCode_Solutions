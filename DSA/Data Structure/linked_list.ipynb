{
 "cells": [
  {
   "cell_type": "markdown",
   "metadata": {},
   "source": [
    "**singly linked list**"
   ]
  },
  {
   "cell_type": "code",
   "execution_count": 6,
   "metadata": {},
   "outputs": [],
   "source": [
    "class Node:\n",
    "    def __init__(self, val):\n",
    "        self.val = val\n",
    "        self.next = None\n",
    "class LinkedList:\n",
    "    def __init__(self):\n",
    "        self.head = None\n",
    "    def insert_to_head(self,val):\n",
    "        new_node = Node(val)\n",
    "        new_node.next = self.head\n",
    "        self.head = new_node\n",
    "    def search(self,val):\n",
    "        point = self.head\n",
    "        while point != None:\n",
    "            if point.val == val:\n",
    "                return True\n",
    "            point = point.next\n",
    "        return False\n"
   ]
  },
  {
   "cell_type": "code",
   "execution_count": 9,
   "metadata": {},
   "outputs": [],
   "source": [
    "head = LinkedList()\n",
    "head.insert_to_head(1)\n",
    "head.insert_to_head(2)\n",
    "head.insert_to_head(3)"
   ]
  },
  {
   "cell_type": "code",
   "execution_count": 10,
   "metadata": {},
   "outputs": [
    {
     "name": "stdout",
     "output_type": "stream",
     "text": [
      "False\n",
      "True\n"
     ]
    }
   ],
   "source": [
    "print(head.search(5))\n",
    "print(head.search(3))"
   ]
  },
  {
   "cell_type": "markdown",
   "metadata": {},
   "source": [
    "**doubly linked list**"
   ]
  },
  {
   "cell_type": "code",
   "execution_count": 24,
   "metadata": {},
   "outputs": [],
   "source": [
    "class Node2:\n",
    "    def __init__(self,next = None, pre = None, val = None):\n",
    "        self.next = next\n",
    "        self.pre = pre\n",
    "        self.val = val\n",
    "\n",
    "class DoubleLinkedList:\n",
    "    def __init__(self, val):\n",
    "        self.head = Node2(val = val)\n",
    "\n",
    "    def insertAtBeginning(self, new_val):\n",
    "        new_node = Node2(val = new_val)\n",
    "        new_node.next = self.head\n",
    "        self.head.pre = new_node\n",
    "        self.head = new_node\n",
    "        return new_node\n",
    "    def traverse(self):\n",
    "        cur_point = self.head\n",
    "        while cur_point:\n",
    "            print(cur_point.val,end = '<->')\n",
    "            cur_point = cur_point.next\n",
    "        print('None', end = \"\")\n",
    "    def insertAfterNode(self,node, val):\n",
    "        # insert 'node val' after specific 'node'\n",
    "        if node is None:\n",
    "            print('can not implement this operation')\n",
    "            return\n",
    "        if node.next:\n",
    "            # curent node is not the last element\n",
    "            new_node = Node2(val = val, next = node.next,pre = node)\n",
    "            node.next.pre = new_node\n",
    "            node.next = new_node\n",
    "        else:\n",
    "            new_node = Node2(val = val, pre = node)\n",
    "            node.next = new_node\n",
    "\n",
    "\n",
    "\n",
    "\n",
    "\n"
   ]
  },
  {
   "cell_type": "code",
   "execution_count": 25,
   "metadata": {},
   "outputs": [
    {
     "name": "stdout",
     "output_type": "stream",
     "text": [
      "4<->3<->2<->1<->None"
     ]
    }
   ],
   "source": [
    "dlist = DoubleLinkedList(1)\n",
    "node2 = dlist.insertAtBeginning(2)\n",
    "node3 = dlist.insertAtBeginning(3)\n",
    "node_4 = dlist.insertAtBeginning(4)\n",
    "dlist.traverse()"
   ]
  },
  {
   "cell_type": "code",
   "execution_count": 26,
   "metadata": {},
   "outputs": [
    {
     "name": "stdout",
     "output_type": "stream",
     "text": [
      "4<->3<->10<->2<->1<->None"
     ]
    }
   ],
   "source": [
    "dlist.insertAfterNode(node3, 10)\n",
    "dlist.traverse()"
   ]
  },
  {
   "cell_type": "code",
   "execution_count": null,
   "metadata": {},
   "outputs": [],
   "source": []
  }
 ],
 "metadata": {
  "kernelspec": {
   "display_name": "Python 3",
   "language": "python",
   "name": "python3"
  },
  "language_info": {
   "codemirror_mode": {
    "name": "ipython",
    "version": 3
   },
   "file_extension": ".py",
   "mimetype": "text/x-python",
   "name": "python",
   "nbconvert_exporter": "python",
   "pygments_lexer": "ipython3",
   "version": "3.11.6"
  }
 },
 "nbformat": 4,
 "nbformat_minor": 2
}
