{
 "cells": [
  {
   "cell_type": "code",
   "execution_count": 96,
   "metadata": {},
   "outputs": [],
   "source": [
    "# Import các thư viện cần thiết\n",
    "import matplotlib.pyplot as plt\n",
    "import networkx as nx\n",
    "\n",
    "class Node:\n",
    "    def __init__(self, val=None, left=None, right=None, parent=None):\n",
    "        self.left = left\n",
    "        self.right = right\n",
    "        self.val = val\n",
    "\n",
    "class BST:\n",
    "    def __init__(self, val):\n",
    "        self.root = Node(val=val)\n",
    "\n",
    "    def insert(self, val):\n",
    "        new_node = Node(val=val)\n",
    "        cur_node = self.root\n",
    "        while True:\n",
    "            if cur_node.val == new_node.val:\n",
    "                print(\"can't insert this node\")\n",
    "                return False\n",
    "            elif cur_node.val < new_node.val:\n",
    "                if cur_node.right is None:\n",
    "                    cur_node.right = new_node\n",
    "                    return True\n",
    "                else:\n",
    "                    cur_node = cur_node.right\n",
    "            else:\n",
    "                if cur_node.left is None:\n",
    "                    cur_node.left = new_node\n",
    "                    return True\n",
    "                else:\n",
    "                    cur_node = cur_node.left\n",
    "\n",
    "    def find(self, val):\n",
    "        cur_node = self.root\n",
    "        while True:\n",
    "            if cur_node.val == val:\n",
    "                return True\n",
    "            elif cur_node.val < val and cur_node.right is not None:\n",
    "                cur_node = cur_node.right\n",
    "            elif cur_node.val > val and cur_node.left is not None:\n",
    "                cur_node = cur_node.left\n",
    "            else:\n",
    "                return False\n",
    "\n",
    "    def find_min(self):\n",
    "        cur_node = self.root\n",
    "        while cur_node.left is not None:\n",
    "            cur_node = cur_node.left\n",
    "        return cur_node.val\n",
    "\n",
    "    def find_max(self):\n",
    "        cur_node = self.root\n",
    "        while cur_node.right is not None:\n",
    "            cur_node = cur_node.right\n",
    "        return cur_node.val\n",
    "    \n",
    "    def get_node_positions(self, node, pos=None, level=0, width=2.0, vert_gap=0.4, x=0):\n",
    "        if pos is None:\n",
    "            pos = {}\n",
    "        if node is not None:\n",
    "            pos[node.val] = (x, -level)  # Lưu vị trí của node\n",
    "            left_x = x - width / (2 ** level)\n",
    "            right_x = x + width / (2 ** level)\n",
    "            # Vẽ vị trí của node con\n",
    "            self.get_node_positions(node.left, pos, level + 1, width, vert_gap, left_x)\n",
    "            self.get_node_positions(node.right, pos, level + 1, width, vert_gap, right_x)\n",
    "        return pos\n",
    "    def draw_tree(self):\n",
    "        G = nx.DiGraph()  # Tạo đồ thị có hướng\n",
    "\n",
    "        def add_edges(node):\n",
    "            if node is not None:\n",
    "                if node.left is not None:\n",
    "                    G.add_edge(node.val, node.left.val)\n",
    "                    add_edges(node.left)\n",
    "                if node.right is not None:\n",
    "                    G.add_edge(node.val, node.right.val)\n",
    "                    add_edges(node.right)\n",
    "\n",
    "        add_edges(self.root)\n",
    "\n",
    "        pos = self.get_node_positions(self.root)  # Tính toán vị trí cho các node\n",
    "        nx.draw(G, pos, with_labels=True, arrows=True, node_size=2000, node_color=\"lightblue\", font_size=10)\n",
    "        plt.show()\n",
    "\n"
   ]
  },
  {
   "cell_type": "code",
   "execution_count": 97,
   "metadata": {},
   "outputs": [
    {
     "data": {
      "text/plain": [
       "True"
      ]
     },
     "execution_count": 97,
     "metadata": {},
     "output_type": "execute_result"
    }
   ],
   "source": [
    "new_BST = BST(7)\n",
    "new_BST.insert(3)\n",
    "new_BST.insert(15)\n",
    "new_BST.insert(9)\n",
    "new_BST.insert(20)"
   ]
  },
  {
   "cell_type": "code",
   "execution_count": 98,
   "metadata": {},
   "outputs": [
    {
     "data": {
      "text/plain": [
       "False"
      ]
     },
     "execution_count": 98,
     "metadata": {},
     "output_type": "execute_result"
    }
   ],
   "source": [
    "new_BST.find(5)"
   ]
  },
  {
   "cell_type": "code",
   "execution_count": 99,
   "metadata": {},
   "outputs": [
    {
     "data": {
      "text/plain": [
       "False"
      ]
     },
     "execution_count": 99,
     "metadata": {},
     "output_type": "execute_result"
    }
   ],
   "source": [
    "new_BST.find(10)"
   ]
  },
  {
   "cell_type": "code",
   "execution_count": 100,
   "metadata": {},
   "outputs": [
    {
     "name": "stdout",
     "output_type": "stream",
     "text": [
      "20\n"
     ]
    }
   ],
   "source": [
    "max_value = new_BST.find_max()\n",
    "print(max_value)"
   ]
  },
  {
   "cell_type": "code",
   "execution_count": 101,
   "metadata": {},
   "outputs": [
    {
     "name": "stdout",
     "output_type": "stream",
     "text": [
      "3\n"
     ]
    }
   ],
   "source": [
    "min_value = new_BST.find_min()\n",
    "print(min_value)"
   ]
  },
  {
   "cell_type": "code",
   "execution_count": 102,
   "metadata": {},
   "outputs": [
    {
     "data": {
      "image/png": "[encoded data removed]",
      "text/plain": [
       "<Figure size 640x480 with 1 Axes>"
      ]
     },
     "metadata": {},
     "output_type": "display_data"
    }
   ],
   "source": [
    "import matplotlib.pyplot as plt\n",
    "import networkx as nx\n",
    "\n",
    "\n",
    "new_BST.draw_tree()"
   ]
  },
  {
   "cell_type": "code",
   "execution_count": null,
   "metadata": {},
   "outputs": [],
   "source": []
  }
 ],
 "metadata": {
  "kernelspec": {
   "display_name": "Python 3",
   "language": "python",
   "name": "python3"
  },
  "language_info": {
   "codemirror_mode": {
    "name": "ipython",
    "version": 3
   },
   "file_extension": ".py",
   "mimetype": "text/x-python",
   "name": "python",
   "nbconvert_exporter": "python",
   "pygments_lexer": "ipython3",
   "version": "3.11.6"
  }
 },
 "nbformat": 4,
 "nbformat_minor": 2
}
